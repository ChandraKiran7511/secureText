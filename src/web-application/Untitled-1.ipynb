{
 "cells": [
  {
   "cell_type": "code",
   "execution_count": 2,
   "metadata": {},
   "outputs": [],
   "source": [
    "from random import randint\n",
    "if __name__=='__main__':\n",
    "#both the persons will be agreed upon the\n",
    "#public keys g and p\n",
    "#a prime number p is taken\n",
    " p=int(input('enter the p value:'))\n",
    "#a primitive root for p,g is taken\n",
    " g=int(input('enter the g value:'))\n",
    " print('the value of p is:',p)\n",
    " print('the value of g is:',g)\n",
    "#alice will choose the private key a\n",
    " a=int(input('enter the a value:'))\n",
    " print('the private key foer alice is:',a)\n",
    "#gets the generayed key\n",
    " x=int(pow(g,a,p))\n",
    "#bob will choose the private key b\n",
    " b=int(input(\"enter the bob's private key b:\"))\n",
    " print('the private key b for bob is:',b)\n",
    "#gets the generated key\n",
    " y=int(pow(g,b,p))\n",
    "#secret key for alice\n",
    " ka=int(pow(y,a,p))\n",
    "#secret key for bob\n",
    " kb=int(pow(x,b,p))\n",
    " print('Secret key for the alice is:',ka)\n",
    " print('Secret key for the bob is:',kb)"
   ]
  }
 ],
 "metadata": {
  "kernelspec": {
   "display_name": "Python 3",
   "language": "python",
   "name": "python3"
  },
  "language_info": {
   "codemirror_mode": {
    "name": "ipython",
    "version": 3
   },
   "file_extension": ".py",
   "mimetype": "text/x-python",
   "name": "python",
   "nbconvert_exporter": "python",
   "pygments_lexer": "ipython3",
   "version": "3.10.10"
  },
  "orig_nbformat": 4,
  "vscode": {
   "interpreter": {
    "hash": "f864d52c532092c00808ff8081f4bacdd99ff26d274f8bf661dad8fad3d95ce8"
   }
  }
 },
 "nbformat": 4,
 "nbformat_minor": 2
}
